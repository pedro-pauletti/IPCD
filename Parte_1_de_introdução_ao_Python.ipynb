{
  "nbformat": 4,
  "nbformat_minor": 0,
  "metadata": {
    "colab": {
      "name": "Parte 1 de introdução ao Python.ipynb",
      "provenance": [],
      "collapsed_sections": [],
      "include_colab_link": true
    },
    "kernelspec": {
      "name": "python3",
      "display_name": "Python 3"
    }
  },
  "cells": [
    {
      "cell_type": "markdown",
      "metadata": {
        "id": "view-in-github",
        "colab_type": "text"
      },
      "source": [
        "<a href=\"https://colab.research.google.com/github/pedro-pauletti/IPCD/blob/main/Parte_1_de_introdu%C3%A7%C3%A3o_ao_Python.ipynb\" target=\"_parent\"><img src=\"https://colab.research.google.com/assets/colab-badge.svg\" alt=\"Open In Colab\"/></a>"
      ]
    },
    {
      "cell_type": "markdown",
      "metadata": {
        "id": "dgqyFQd5WLTm"
      },
      "source": [
        "# Introdução ao  Python com Ciência de Dados\n",
        "\n",
        "Professores:\n",
        "* Felipe Cavenaghi\n",
        "* Rafael Stoffalette Joao\n",
        "\n",
        "## Ementa\n",
        "1. Python: \n",
        "  * Ambiente de Programação\n",
        "  * tipos de dados, sequências e operações, estruturas de controle e repetição\n",
        "  * Python: referências, funções, funções avançadas e comprehention\n",
        "  * Python: I/O e noções básicas de classes e objetos\n",
        "2. Numpy: \n",
        "   * array, slicing, fancy index, copy e view\n",
        "   * operações com array, broadcasting\n",
        "3. Pandas: \n",
        "   * dataframes, series, index, Pandas I/O (csv, json, excell)\n",
        "   * limpeza de dados\n",
        "4. Matplotlib:  construção de gráficos\n",
        "5. Introdução ao aprendizado de máquina\n",
        "6. Introdução ao processamento de linguagem Natural com NTKL"
      ]
    },
    {
      "cell_type": "markdown",
      "metadata": {
        "id": "ZihgwGfCf0NU"
      },
      "source": [
        "# Aula 01: Introdução ao Python\n"
      ]
    },
    {
      "cell_type": "markdown",
      "metadata": {
        "id": "5ZQPZtp6Zgd9"
      },
      "source": [
        "* O que é Python\n",
        "* Variáveis e atribuição\n",
        "* Tipos de dados\n",
        "  * Tipos básicos\n",
        "  * Tipos sequências\n",
        "  * dicionários\n",
        "5. Escrita e leitura de arquivos\n",
        "6. sqlite"
      ]
    },
    {
      "cell_type": "markdown",
      "metadata": {
        "id": "f3La94cLmouh"
      },
      "source": [
        "## Python\n",
        "* Linguagem dinâmica e interpretada\n",
        "  * Tarefas são realizadas em tempo de execução \n",
        "  * Código executado diretamente ao invés de ser compilado.\n",
        "\n",
        "* Multi-paradgima\n",
        "\n",
        "  * Imperativo: programas compreendem uma sequência de declarações\n",
        "  * Orientada a objetos: permite modelos de classes para manipular objetos\n",
        "  * Procedural: código pode ser agrupado em unidades chamadas funções\n",
        "  * Funcional: Python nativamente permite funções de primeira classe, lambdas anônimos, comprehensions e geradores.\n",
        "\n",
        "* Ampla comunidade trabalhando e compartilhando código"
      ]
    },
    {
      "cell_type": "markdown",
      "metadata": {
        "id": "P3UJ86VdaVRu"
      },
      "source": [
        "## Variáveis e atribuição\n",
        "\n",
        "A atribuição é feita diretamente\n",
        "\n",
        "Sem necessidade de declarar o tipo de variável\n",
        "\n",
        "O Próprio Python se encarrega de descobrir o tipo de variável"
      ]
    },
    {
      "cell_type": "code",
      "metadata": {
        "id": "dlq-B5XyaNvu"
      },
      "source": [
        "# A atribuição Cria é feita diretamente e cria e inicializa a variável\n",
        "x = 36\n",
        "y = \"hello\"\n",
        "z = 3.45\n",
        "\n",
        "# Imprimindo os resultados\n",
        "print(type(x), '  x = ', x)\n",
        "print(type(y), '  y = ', y)\n",
        "print(type(z), 'z = ', z)\n"
      ],
      "execution_count": null,
      "outputs": []
    },
    {
      "cell_type": "markdown",
      "metadata": {
        "id": "Dy_fa0NTqPbK"
      },
      "source": [
        "Tipos de dados\n",
        "* Tipos básicos\n",
        "  *  Inteiro\n",
        "  *  Float\n",
        "  *  Booleano\n",
        "  *  Números complexos"
      ]
    },
    {
      "cell_type": "code",
      "metadata": {
        "id": "mFv6_BsrqeDZ"
      },
      "source": [
        "\n",
        "# Funções internas para converter entre tipos\n",
        "x = 1.89\n",
        "y = int(x)\n",
        "z = str(x)\n",
        "r = True\n",
        "s = 3 + 4j\n",
        "\n",
        "print(\"x =\", x, \"| tipo: \", type(x))\n",
        "print(\"y =\", y, \"   | tipo: \", type(y))\n",
        "print(\"z =\", z, \"| tipo: \", type(z))\n",
        "print(\"z =\", r, \"| tipo: \", type(r))\n",
        "print(\"z =\", s, \"| tipo: \", type(s))\n",
        "\n"
      ],
      "execution_count": null,
      "outputs": []
    },
    {
      "cell_type": "markdown",
      "metadata": {
        "id": "o1QDZL-GqmMD"
      },
      "source": [
        "## Operadores"
      ]
    },
    {
      "cell_type": "code",
      "metadata": {
        "id": "s1Gg_ktqoLdP"
      },
      "source": [
        "# Comparação é feita usando os operadores convencionais <, >, ==, !=, ...\n",
        "x, y = 4, 6\n",
        "z, w = \"Ola\", \"Ola\"\n",
        "\n",
        "comparacao1 = y == x\n",
        "print(comparacao)\n",
        "\n",
        "comparacao2 = (x==y or z==w)\n",
        "print(comparacao2)"
      ],
      "execution_count": null,
      "outputs": []
    },
    {
      "cell_type": "code",
      "metadata": {
        "id": "WEqBcIksa45-"
      },
      "source": [
        "#Exemplo de aritmética com strings\n",
        "\n",
        "y = \"Olá\"\n",
        "x = y + ' Mundo'\n",
        "print(x)\n",
        "\n",
        "z = \"Já pode sair?\"\n",
        "w = 5*z\n",
        "print(w)"
      ],
      "execution_count": null,
      "outputs": []
    },
    {
      "cell_type": "code",
      "metadata": {
        "id": "FUtbfeYlcxsm"
      },
      "source": [
        "# Atribuição de referência ao objeto e não do valor\n",
        "x = [1, 2, 3, 4]\n",
        "y = x\n",
        "\n",
        "# Assim quando modificamos x, modificamos o valor mostrado em y também e vice-versa\n",
        "y.append(5)\n",
        "print(\"\\nInserido o elemento 5 via variável y\")\n",
        "print(\"x = \",  x)\n",
        "print(\"y = \", y)\n",
        "\n",
        "x.append(7)\n",
        "print(\"\\nInserido o elemento 7 via variável x\")\n",
        "print(\"x = \",  x)\n",
        "print(\"y = \", y)\n"
      ],
      "execution_count": null,
      "outputs": []
    },
    {
      "cell_type": "markdown",
      "metadata": {
        "id": "d6w2wUCfrcVV"
      },
      "source": [
        "Tipos de dados sequências \n",
        "* Tuplas\n",
        "* Lista\n",
        "* String"
      ]
    },
    {
      "cell_type": "markdown",
      "metadata": {
        "id": "rI2URBOHtip8"
      },
      "source": [
        "Tuplas:\n",
        "\n",
        "*   Definida entre parênteses - ()\n",
        "*   Sequência de elementos que podem ser de tipos distintos\n",
        "*   Após criada, elementos não podem ser alterados\n",
        "\n"
      ]
    },
    {
      "cell_type": "code",
      "metadata": {
        "id": "XMZjDQyYrsIo",
        "colab": {
          "base_uri": "https://localhost:8080/"
        },
        "outputId": "af5276ec-2eb1-460d-9b0d-8ddbe6bdc908"
      },
      "source": [
        "# Tuplas\n",
        "# Declaração utiliza parênteses () e pode ser de tipos distintos\n",
        "t1 = (1, 2, 3, \"cinco\", 7.0)\n",
        "print(type(t1), \"|\", t1)\n",
        "\n",
        "\n",
        "# Se não colocar parênteses também aceita\n",
        "t2 = 7,8,\"9\", True, (1, 2, 3, 4)\n",
        "print(type(t2), \"|\", t2)\n"
      ],
      "execution_count": null,
      "outputs": [
        {
          "output_type": "stream",
          "text": [
            "<class 'tuple'> | (1, 2, 3, 'cinco', 7.0)\n",
            "<class 'tuple'> | (7, 8, '9', True, (1, 2, 3, 4))\n"
          ],
          "name": "stdout"
        }
      ]
    },
    {
      "cell_type": "code",
      "metadata": {
        "id": "FiqlizrbseVF",
        "colab": {
          "base_uri": "https://localhost:8080/"
        },
        "outputId": "592b7a52-abcf-46b6-d63c-59f60b31d62a"
      },
      "source": [
        "# acessando um elemento da tupla via []\n",
        "print(type(t1[0]), \"  | t1[0] = \", t1[0])\n",
        "print(type(t1[3]), \"  | t1[3] = \", t1[3])\n",
        "print(type(t2[3]), \" | t2[3] = \", t2[3])\n",
        "print(type(t2[4]), \"| t2[4] = \", t2[4])\n",
        "print(type(t2[4][1]), \"  | t2[4][1] = \", t2[4][1])"
      ],
      "execution_count": null,
      "outputs": [
        {
          "output_type": "stream",
          "text": [
            "<class 'int'>   | t1[0] =  1\n",
            "<class 'str'>   | t1[3] =  cinco\n",
            "<class 'bool'>  | t2[3] =  True\n",
            "<class 'tuple'> | t2[4] =  (1, 2, 3, 4)\n",
            "<class 'int'>   | t2[4][1] =  2\n"
          ],
          "name": "stdout"
        }
      ]
    },
    {
      "cell_type": "code",
      "metadata": {
        "id": "IcV6GiaGs_va",
        "colab": {
          "base_uri": "https://localhost:8080/",
          "height": 178
        },
        "outputId": "6af6a3fb-d590-44aa-e787-8b012f39eb83"
      },
      "source": [
        "# Se terntar inserir ou modificar um elemento na tupla, gera erro\n",
        "t[1] = 7"
      ],
      "execution_count": null,
      "outputs": [
        {
          "output_type": "error",
          "ename": "NameError",
          "evalue": "ignored",
          "traceback": [
            "\u001b[0;31m---------------------------------------------------------------------------\u001b[0m",
            "\u001b[0;31mNameError\u001b[0m                                 Traceback (most recent call last)",
            "\u001b[0;32m<ipython-input-7-09cab1839ca9>\u001b[0m in \u001b[0;36m<module>\u001b[0;34m()\u001b[0m\n\u001b[1;32m      1\u001b[0m \u001b[0;31m# Se terntar inserir ou modificar um elemento na tupla, gera erro\u001b[0m\u001b[0;34m\u001b[0m\u001b[0;34m\u001b[0m\u001b[0;34m\u001b[0m\u001b[0m\n\u001b[0;32m----> 2\u001b[0;31m \u001b[0mt\u001b[0m\u001b[0;34m[\u001b[0m\u001b[0;36m1\u001b[0m\u001b[0;34m]\u001b[0m \u001b[0;34m=\u001b[0m \u001b[0;36m7\u001b[0m\u001b[0;34m\u001b[0m\u001b[0;34m\u001b[0m\u001b[0m\n\u001b[0m",
            "\u001b[0;31mNameError\u001b[0m: name 't' is not defined"
          ]
        }
      ]
    },
    {
      "cell_type": "code",
      "metadata": {
        "id": "b2OZ1SqRtJ40",
        "colab": {
          "base_uri": "https://localhost:8080/"
        },
        "outputId": "6c717278-23ed-405e-8425-4879f22025bc"
      },
      "source": [
        "# \"Somando\" duas tuplas\n",
        "t3 = t1 + t2\n",
        "print(type(t3))\n",
        "print(t3)"
      ],
      "execution_count": null,
      "outputs": [
        {
          "output_type": "stream",
          "text": [
            "<class 'tuple'>\n",
            "(1, 2, 3, 'cinco', 7.0, 7, 8, '9', True, (1, 2, 3, 4))\n"
          ],
          "name": "stdout"
        }
      ]
    },
    {
      "cell_type": "markdown",
      "metadata": {
        "id": "i98onhz9v2kw"
      },
      "source": [
        "Listas:\n",
        "\n",
        "*  Definida entre colchetes - []\n",
        "*  Elementos podem ser modificados, adicionados e removidos"
      ]
    },
    {
      "cell_type": "code",
      "metadata": {
        "id": "Xo6qOP49uBz9",
        "colab": {
          "base_uri": "https://localhost:8080/"
        },
        "outputId": "5b14120c-cb59-4835-ddfc-9e7729c00f09"
      },
      "source": [
        "# Listas\n",
        "# Atribuição para listas - []\n",
        "l1 = [2, 4, 3, 5]\n",
        "l2 = [2, \"3\"]\n",
        "\n",
        "print(type(l1), \"|\", l1)\n",
        "print(type(l2), \"|\", l2)"
      ],
      "execution_count": null,
      "outputs": [
        {
          "output_type": "stream",
          "text": [
            "<class 'list'> | [2, 4, 3, 5]\n",
            "<class 'list'> | [2, '3']\n"
          ],
          "name": "stdout"
        }
      ]
    },
    {
      "cell_type": "code",
      "metadata": {
        "id": "Rn6_AS0UvF10",
        "colab": {
          "base_uri": "https://localhost:8080/"
        },
        "outputId": "e4b7ecc2-4ed7-44a3-df8b-5ea0b7c8cd0f"
      },
      "source": [
        "# acessando um elemento\n",
        "print(type(l2), \"|\", l2)\n",
        "print(type(l2[1]), \"|\", l2[1])\n"
      ],
      "execution_count": null,
      "outputs": [
        {
          "output_type": "stream",
          "text": [
            "<class 'list'> | [2, '3']\n",
            "<class 'str'> | 3\n"
          ],
          "name": "stdout"
        }
      ]
    },
    {
      "cell_type": "code",
      "metadata": {
        "id": "Q9OCmgqUvU7Q",
        "colab": {
          "base_uri": "https://localhost:8080/"
        },
        "outputId": "1490afa2-50c9-4525-f5a2-1a6d41a4ead1"
      },
      "source": [
        "#Com listas podemos modificar os valores\n",
        "print(\"l1 = \", l1)\n",
        "\n",
        "l1[1] = \"1\"\n",
        "\n",
        "print(\"l1 = \", l1)"
      ],
      "execution_count": null,
      "outputs": [
        {
          "output_type": "stream",
          "text": [
            "l1 =  [2, 4, 3, 5]\n",
            "l1 =  [2, '1', 3, 5]\n"
          ],
          "name": "stdout"
        }
      ]
    },
    {
      "cell_type": "code",
      "metadata": {
        "id": "p5AE6kyBvlQC"
      },
      "source": [
        "#Somando listas\n",
        "l3 = l1 + l2\n",
        "print(\"l3 = \", l3)\n"
      ],
      "execution_count": null,
      "outputs": []
    },
    {
      "cell_type": "code",
      "metadata": {
        "id": "FWn-RHUHwJcI"
      },
      "source": [
        "# Removendo elementos de listas\n",
        "\n",
        "# Localiza o elemento de valor 2 e remove\n",
        "# Havendo repetição, remove o primeiro que encontrar\n",
        "l3.remove(2)\n",
        "print(\"l3 = \", l3)"
      ],
      "execution_count": null,
      "outputs": []
    },
    {
      "cell_type": "code",
      "metadata": {
        "id": "6_KEgu4Gwa28"
      },
      "source": [
        "# Adicionando item\n",
        "\n",
        "#Adiciona o elemento no final da lista\n",
        "l3.append(2)\n",
        "print(\"l3 = \", l3)"
      ],
      "execution_count": null,
      "outputs": []
    },
    {
      "cell_type": "code",
      "metadata": {
        "id": "gcUuIqlVwlV3"
      },
      "source": [
        "# insert(pos, valor): isere o elemento \"valor\" na posição \"pos\" da lista\n",
        "l3.insert(2, 20)\n",
        "print(\"l3 = \", l3)"
      ],
      "execution_count": null,
      "outputs": []
    },
    {
      "cell_type": "code",
      "metadata": {
        "id": "eZytRlYxrrwK"
      },
      "source": [
        "# Ordenando listas, vai dar erro\n",
        "l3.sort()\n",
        "print(\"l3 = \", l3)"
      ],
      "execution_count": null,
      "outputs": []
    },
    {
      "cell_type": "code",
      "metadata": {
        "id": "KLRAF8zfr9qW"
      },
      "source": [
        "# Removendo os strings, teremos só um tipo de dados\n",
        "l3.remove('1')\n",
        "l3.remove('3')\n",
        "\n",
        "print(\"antes ordenação\")\n",
        "print(l3)\n",
        "\n",
        "# Agora podemos ordena\n",
        "l3.sort()\n",
        "\n",
        "print(\"\\napós ordenação\")\n",
        "print(l3)"
      ],
      "execution_count": null,
      "outputs": []
    },
    {
      "cell_type": "code",
      "metadata": {
        "id": "vJgkUF_asybA"
      },
      "source": [
        "# Ou só com strings\n",
        "Letras = ['a', 'd', 'c']\n",
        "Letras.sort()\n",
        "print(Letras)"
      ],
      "execution_count": null,
      "outputs": []
    },
    {
      "cell_type": "markdown",
      "metadata": {
        "id": "akAIjWTHxhUV"
      },
      "source": [
        "Strings\n",
        "\n",
        "*  definida entre apas simples ('') ou duplas (\"\")\n",
        "*  Conceitualmente similares a tuplas\n",
        "*  Elementos são caracteres"
      ]
    },
    {
      "cell_type": "code",
      "metadata": {
        "id": "4_w4zqbav1mW"
      },
      "source": [
        "# String\n",
        "# Atrbuição de strings\n",
        "str1 = \"Olá\"\n",
        "\n",
        "print(type(str1), str1)\n",
        "print(type(str1[0]), str1[0])"
      ],
      "execution_count": null,
      "outputs": []
    },
    {
      "cell_type": "code",
      "metadata": {
        "id": "kw4Q_5q1xXt0"
      },
      "source": [
        "# não pode editar depois de criada, similar à tupla\n",
        "str1[0] = \"x\""
      ],
      "execution_count": null,
      "outputs": []
    },
    {
      "cell_type": "markdown",
      "metadata": {
        "id": "AVf8mnhdx8RE"
      },
      "source": [
        "## Resumo tuplas, listas e strings\n",
        "*  Os elementos de uma tupla, lista ou string podem ser acessados utilizando colchetes [ ] de forma indexada.\n",
        "\n",
        "*  O índice dos elementos varia de 0 até 𝑛−1, onde 𝑛 é o número de elementos na sequência.\n",
        "\n",
        "*  OBS: Tuplas e strings são imutáveis (seus valores são fixos), Listas são mutáveis (é possível alterar seus valores)\n"
      ]
    },
    {
      "cell_type": "markdown",
      "metadata": {
        "id": "5_HfUw_QBrjf"
      },
      "source": [
        "## Tipos de dados dicionários\n",
        "\n",
        "* Criados usando cahves - {}\n",
        "* Mapeamento Chave:valores\n",
        "   * Chave pode ser qualquer tipo imutável\n",
        "   * Valores podem ser de qualquer tipo\n",
        "* Pares chave/valores podem ser modificados, visualizados e apagados"
      ]
    },
    {
      "cell_type": "code",
      "metadata": {
        "id": "p92iBQSwq6EV"
      },
      "source": [
        "# dicionários\n",
        "# Atribuição\n",
        "d1 = {'chave1': 4.0,\n",
        "     'chave2': 23,\n",
        "     'chave3': 'Outro valor',\n",
        "     'chave4': (1,2,3,4)}\n",
        "\n",
        "print(type(d1), d1)"
      ],
      "execution_count": null,
      "outputs": []
    },
    {
      "cell_type": "code",
      "metadata": {
        "id": "EjJclX5Srag7"
      },
      "source": [
        "# Acessando valores a partir da chave\n",
        "print(\"chave1 = \", d1['chave1'], \"         | tipo:\", type(d1['chave1']))\n",
        "print(\"chave2 = \", d1['chave2'], \"          | tipo:\", type(d1['chave2']))\n",
        "print(\"chave3 = \", d1['chave3'], \" | tipo:\", type(d1['chave3']))\n",
        "print(\"chave4 = \", d1['chave4'], \"| tipo:\", type(d1['chave4']))"
      ],
      "execution_count": null,
      "outputs": []
    },
    {
      "cell_type": "code",
      "metadata": {
        "id": "ZueCH69W_swK"
      },
      "source": [
        "print(d1)\n",
        "\n",
        "# dada a chave, se ela não existe, cria uma nova\n",
        "d1[5] = 'cinco'\n",
        "print(d1)\n",
        "\n",
        "#se já exsite, atualiza o valor\n",
        "d1[5] = [5]\n",
        "print(d1)\n"
      ],
      "execution_count": null,
      "outputs": []
    },
    {
      "cell_type": "code",
      "metadata": {
        "id": "6PQeYpCGAAYX"
      },
      "source": [
        "#Removendo item\n",
        "del d1['chave4']\n",
        "print(d1)"
      ],
      "execution_count": null,
      "outputs": []
    },
    {
      "cell_type": "code",
      "metadata": {
        "id": "F2PZmGhGAy-O"
      },
      "source": [
        "#itens\n",
        "itens = d1.items()\n",
        "print(type(itens), '|', itens)"
      ],
      "execution_count": null,
      "outputs": []
    },
    {
      "cell_type": "code",
      "metadata": {
        "id": "mjyyRsYCAGmn"
      },
      "source": [
        "# Propriedaes\n",
        "# Chaves\n",
        "chaves = d1.keys()\n",
        "print(type(chaves), '|', chaves)"
      ],
      "execution_count": null,
      "outputs": []
    },
    {
      "cell_type": "code",
      "metadata": {
        "id": "wtXodQQKAhIc"
      },
      "source": [
        "# Valores\n",
        "valores = d1.values()\n",
        "print(type(valores), '|', valores)"
      ],
      "execution_count": null,
      "outputs": []
    },
    {
      "cell_type": "code",
      "metadata": {
        "id": "Q8ezb0s9VI4f"
      },
      "source": [
        "# criando um dicionario\n",
        "d = {1: 'um', 2: 'dois', 3:'tres'}\n",
        "for key, value in d.items():\n",
        "  print(key, '-->', value)"
      ],
      "execution_count": null,
      "outputs": []
    },
    {
      "cell_type": "markdown",
      "metadata": {
        "id": "ETudZkfryyth"
      },
      "source": [
        "## Exemplos"
      ]
    },
    {
      "cell_type": "code",
      "metadata": {
        "id": "ofTMEIyvwjl6"
      },
      "source": [
        "#dicionarío de números ímpares e pares\n",
        "\n",
        "my_list = [0,1,2,3,4,5,6,7,8,9, 10, 11, 12, 13, 14, 15]\n",
        "\n",
        "# dicionário vazio\n",
        "Numeros = {}\n",
        "\n",
        "for val in my_list:\n",
        "    if val%2 == 0:\n",
        "        Numeros[val] = 'Par'\n",
        "    else:\n",
        "        Numeros[val] = 'Impar'  \n",
        "\n",
        "print(Numeros)"
      ],
      "execution_count": null,
      "outputs": []
    },
    {
      "cell_type": "markdown",
      "metadata": {
        "id": "I3hyXMrakWD7"
      },
      "source": [
        "## Incluindo módulos\n"
      ]
    },
    {
      "cell_type": "code",
      "metadata": {
        "id": "L9DCYWPDJQuY"
      },
      "source": [
        "# colocar mais exemplos mostrar o caminho para achar as funções\n",
        "\n",
        "import  statistics as st\n",
        "lista = [10,9,7]\n",
        "\n",
        "media = st.mean(lista)\n",
        "desviopadrao = st.pstdev(lista)\n",
        "variancia = st.variance(lista)\n",
        "mediana = st.median(lista)\n",
        "\n",
        "print(\"Media = \", media)\n",
        "print(\"Mediana = \", mediana)\n",
        "print(\"Desvio padrão = \", desviopadrao)\n",
        "print(\"Variância = \", variancia)\n",
        "\n",
        "\n",
        "\n",
        "\t\n",
        "\n"
      ],
      "execution_count": null,
      "outputs": []
    },
    {
      "cell_type": "code",
      "metadata": {
        "id": "vRFOAxs-_CpC"
      },
      "source": [
        "from statistics import mean\n",
        "lista = [10,9,7]\n",
        "\n",
        "media = mean(lista)\n",
        "# Vai dar erro\n",
        "desviopadrao = pstdev(lista)"
      ],
      "execution_count": null,
      "outputs": []
    },
    {
      "cell_type": "code",
      "metadata": {
        "id": "plIF7z3Z_yFy"
      },
      "source": [
        "from statistics import mean\n",
        "lista = [10,9,7]\n",
        "\n",
        "media = mean(lista)\n",
        "\n",
        "print(media)\n"
      ],
      "execution_count": null,
      "outputs": []
    },
    {
      "cell_type": "markdown",
      "metadata": {
        "id": "1tp9SVBV9yas"
      },
      "source": [
        "## Exemplos"
      ]
    },
    {
      "cell_type": "code",
      "metadata": {
        "id": "xpsL4BRAy1WF",
        "colab": {
          "base_uri": "https://localhost:8080/"
        },
        "outputId": "cfa2d62e-9088-4526-c16a-d58c5aa3275e"
      },
      "source": [
        "# verificando o número de ocorrência de uma letra dada uma string\n",
        "from collections import Counter\n",
        "minha_string = \"scientia vinces\"\n",
        "\n",
        "# dicionario de ocorrências\n",
        "ocor = {}\n",
        "\n",
        "# Para cadas elemento (caractere) da palavra, verifica se está no dicionário\n",
        "# Se é a primeira vez que econtrou, começa a contagem\n",
        "# Senão, incrementa\n",
        "for letra in minha_string: \n",
        "    if letra not in ocor:\n",
        "        ocor[letra] = 1\n",
        "    else:\n",
        "        ocor[letra] += 1\n",
        "\n",
        "print(ocor)\n",
        "\n",
        "# Porém a função já está implementada em python\n",
        "Counter(minha_string)"
      ],
      "execution_count": null,
      "outputs": [
        {
          "output_type": "stream",
          "text": [
            "{'s': 2, 'c': 2, 'i': 3, 'e': 2, 'n': 2, 't': 1, 'a': 1, ' ': 1, 'v': 1}\n"
          ],
          "name": "stdout"
        },
        {
          "output_type": "execute_result",
          "data": {
            "text/plain": [
              "Counter({' ': 1,\n",
              "         'a': 1,\n",
              "         'c': 2,\n",
              "         'e': 2,\n",
              "         'i': 3,\n",
              "         'n': 2,\n",
              "         's': 2,\n",
              "         't': 1,\n",
              "         'v': 1})"
            ]
          },
          "metadata": {
            "tags": []
          },
          "execution_count": 1
        }
      ]
    },
    {
      "cell_type": "markdown",
      "metadata": {
        "id": "x3N3Mzdx32t0"
      },
      "source": [
        "## Exemplo Corretor ortográfico"
      ]
    },
    {
      "cell_type": "code",
      "metadata": {
        "id": "T_sM3qExJbxf",
        "colab": {
          "base_uri": "https://localhost:8080/"
        },
        "outputId": "3e094fad-6dda-4d17-a489-692a08dc59c1"
      },
      "source": [
        "# Cria dicionário para correção\n",
        "Corretor = {}\n",
        "\n",
        "# Incluir correção para a variação da palavra casa\n",
        "palavra = \"pão\"\n",
        "Termo = {palavra[0:x] + palavra[x+1:len(palavra)]:palavra for x in range(0, len(palavra))}\n",
        "for chave in Termo:\n",
        "  Corretor[chave] = Termo[chave]\n",
        "\n",
        "# Incluir correção para a variação da palavra casa\n",
        "palavra = \"de\"\n",
        "Termo = {palavra[0:x] + palavra[x+1:len(palavra)]:palavra for x in range(0, len(palavra))}\n",
        "for chave in Termo:\n",
        "  Corretor[chave] = Termo[chave]\n",
        "\n",
        "\n",
        "# Incluir correção para a variação da palavra casa\n",
        "palavra = \"queijo\"\n",
        "Termo = {palavra[0:x] + palavra[x+1:len(palavra)]:palavra for x in range(0, len(palavra))}\n",
        "for chave in Termo:\n",
        "  Corretor[chave] = Termo[chave]\n",
        "\n",
        "\n",
        "# Incluir correção para a variação da palavra casa\n",
        "palavra = \"casa\"\n",
        "Termo = {palavra[0:x] + palavra[x+1:len(palavra)]:palavra for x in range(0, len(palavra))}\n",
        "\n",
        "for chave in Termo:\n",
        "  Corretor[chave] = Termo[chave]\n",
        "\n",
        "# Trem\n",
        "palavra = \"trem\"\n",
        "Termo = {palavra[0:x] + palavra[x+1:len(palavra)]:palavra for x in range(0, len(palavra))}\n",
        "\n",
        "for chave in Termo:\n",
        "  Corretor[chave] = Termo[chave]\n",
        "\n",
        "# bom\n",
        "palavra = \"bom\"\n",
        "Termo = {palavra[0:x] + palavra[x+1:len(palavra)]:palavra for x in range(0, len(palavra))}\n",
        "\n",
        "for chave in Termo:\n",
        "  Corretor[chave] = Termo[chave]\n",
        "\n",
        "print(Corretor)"
      ],
      "execution_count": null,
      "outputs": [
        {
          "output_type": "stream",
          "text": [
            "{'ão': 'pão', 'po': 'pão', 'pã': 'pão', 'e': 'de', 'd': 'de', 'ueijo': 'queijo', 'qeijo': 'queijo', 'quijo': 'queijo', 'quejo': 'queijo', 'queio': 'queijo', 'queij': 'queijo', 'asa': 'casa', 'csa': 'casa', 'caa': 'casa', 'cas': 'casa', 'rem': 'trem', 'tem': 'trem', 'trm': 'trem', 'tre': 'trem', 'om': 'bom', 'bm': 'bom', 'bo': 'bom'}\n"
          ],
          "name": "stdout"
        }
      ]
    },
    {
      "cell_type": "code",
      "metadata": {
        "id": "Lx-Y-zA-3770",
        "colab": {
          "base_uri": "https://localhost:8080/"
        },
        "outputId": "989e9fbd-871a-40dc-b618-280f64d4bb40"
      },
      "source": [
        "frase = ['pão', 'de', 'quijo', 'é', 'um', 'trem', 'bm']\n",
        "\n",
        "#Consultando o corretor\n",
        "cont = 0\n",
        "for palavra in frase:\n",
        "  if palavra in Corretor:\n",
        "    frase[cont] = Corretor[palavra]\n",
        "  cont += 1 \n",
        "  \n",
        "print(frase)\n",
        "\n",
        "Corrigido = ''\n",
        "\n",
        "# transformando em string\n",
        "for palavra in frase:\n",
        "  Corrigido += palavra + ' '\n",
        "\n",
        "print(Corrigido)\n",
        "\n"
      ],
      "execution_count": null,
      "outputs": [
        {
          "output_type": "stream",
          "text": [
            "['pão', 'de', 'queijo', 'é', 'um', 'trem', 'bom']\n",
            "pão de queijo é um trem bom \n"
          ],
          "name": "stdout"
        }
      ]
    }
  ]
}