{
  "nbformat": 4,
  "nbformat_minor": 0,
  "metadata": {
    "colab": {
      "name": "Corretor.ipynb",
      "provenance": [],
      "mount_file_id": "1x93tLj5Z6C6dhiEjnDoMnbZgdLO7XUDB",
      "authorship_tag": "ABX9TyPEh9fITmI4brEYHTroDmVA",
      "include_colab_link": true
    },
    "kernelspec": {
      "name": "python3",
      "display_name": "Python 3"
    }
  },
  "cells": [
    {
      "cell_type": "markdown",
      "metadata": {
        "id": "view-in-github",
        "colab_type": "text"
      },
      "source": [
        "<a href=\"https://colab.research.google.com/github/pedro-pauletti/IPCD/blob/main/Corretor.ipynb\" target=\"_parent\"><img src=\"https://colab.research.google.com/assets/colab-badge.svg\" alt=\"Open In Colab\"/></a>"
      ]
    },
    {
      "cell_type": "code",
      "metadata": {
        "id": "lzEww3DeRAI6",
        "colab": {
          "base_uri": "https://localhost:8080/"
        },
        "outputId": "16dbfb83-9b92-4644-ceb2-af88850892fc"
      },
      "source": [
        "from corretor import CorretorOrto as crr\n",
        "\n",
        "\n",
        "dataset_palavras = open(\"/content/dataset_todas_palavras_portugues.txt\", \"r\")\n",
        "\n",
        "listaDePalavras = dataset_palavras.read().splitlines()\n",
        "\n",
        "#print(listaDePalavras)\n",
        "\n",
        "Corrige = crr.criaDicionario(listaDePalavras)\n",
        "\n",
        "\n",
        "frase = \"Iso no está fucionando cmo devria\"\n",
        "\n",
        "frase = crr.consultaFrase(Corrige, frase.split(' '))\n",
        "\n",
        "print(frase)"
      ],
      "execution_count": null,
      "outputs": [
        {
          "output_type": "stream",
          "text": [
            "Iso uno testá funcionando como deveria\n"
          ],
          "name": "stdout"
        }
      ]
    }
  ]
}